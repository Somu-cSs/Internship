{
  "nbformat": 4,
  "nbformat_minor": 0,
  "metadata": {
    "colab": {
      "provenance": []
    },
    "kernelspec": {
      "name": "python3",
      "display_name": "Python 3"
    },
    "language_info": {
      "name": "python"
    }
  },
  "cells": [
    {
      "cell_type": "markdown",
      "source": [
        "# **___Regular Expressions___**"
      ],
      "metadata": {
        "id": "9B9x-Mj2jd1n"
      }
    },
    {
      "cell_type": "markdown",
      "source": [
        "# Q1."
      ],
      "metadata": {
        "id": "ZKK0xbUzrf5H"
      }
    },
    {
      "cell_type": "code",
      "execution_count": null,
      "metadata": {
        "id": "QE8CZVBerLUY"
      },
      "outputs": [],
      "source": [
        "import re\n",
        "text = input(str())\n",
        "op = re.sub(\"[,. ]\", \":\", text)\n",
        "print(op)"
      ]
    },
    {
      "cell_type": "markdown",
      "source": [
        "# Q2.\n"
      ],
      "metadata": {
        "id": "mDyE35s0ybUT"
      }
    },
    {
      "cell_type": "code",
      "source": [
        "import re\n",
        "\n",
        "\n",
        "text = input(str())\n",
        "words = re.findall(r\"\\b[ae]\\w+\\b\", text)\n",
        "\n",
        "print(words)"
      ],
      "metadata": {
        "colab": {
          "base_uri": "https://localhost:8080/"
        },
        "id": "sSutSXPH1pnn",
        "outputId": "f8672d86-e4af-4a5f-e47a-fbb1a5a1b3bc"
      },
      "execution_count": 33,
      "outputs": [
        {
          "output_type": "stream",
          "name": "stdout",
          "text": [
            " at the beginning of eatting\n",
            "['at', 'eatting']\n"
          ]
        }
      ]
    },
    {
      "cell_type": "markdown",
      "source": [
        "# Q3."
      ],
      "metadata": {
        "id": "teFudP4d1p8k"
      }
    },
    {
      "cell_type": "code",
      "source": [
        "import re\n",
        "\n",
        "def find_words(string):\n",
        "    pattern = re.compile(r'\\b\\w{4,}\\b')\n",
        "    return pattern.findall(string)\n",
        "x = input(str())\n",
        "print(find_words(x))"
      ],
      "metadata": {
        "colab": {
          "base_uri": "https://localhost:8080/"
        },
        "id": "IFpNuq-C5cg_",
        "outputId": "d31819e1-c4c3-479f-e63c-9c022ee82b13"
      },
      "execution_count": 35,
      "outputs": [
        {
          "output_type": "stream",
          "name": "stdout",
          "text": [
            "This is a simple example with some long words like elephant and computer.\n",
            "['This', 'simple', 'example', 'with', 'some', 'long', 'words', 'like', 'elephant', 'computer']\n"
          ]
        }
      ]
    },
    {
      "cell_type": "markdown",
      "source": [
        "# Q4."
      ],
      "metadata": {
        "id": "VJCWCdlR81Gj"
      }
    },
    {
      "cell_type": "code",
      "source": [
        "import re\n",
        "\n",
        "def find_words(string):\n",
        "    pattern = re.compile(r'\\b\\w{3,5}\\b')\n",
        "    return pattern.findall(string)\n",
        "x = \"This is a simple example with some long words like elephant and computer.\"\n",
        "print(x)\n",
        "print(find_words(x))"
      ],
      "metadata": {
        "colab": {
          "base_uri": "https://localhost:8080/"
        },
        "id": "fuQXlyjS80oc",
        "outputId": "acc199b0-a921-40a1-ec8f-45ff63d75a62"
      },
      "execution_count": 83,
      "outputs": [
        {
          "output_type": "stream",
          "name": "stdout",
          "text": [
            "This is a simple example with some long words like elephant and computer.\n",
            "['This', 'with', 'some', 'long', 'words', 'like', 'and']\n"
          ]
        }
      ]
    },
    {
      "cell_type": "markdown",
      "source": [
        "# Q5."
      ],
      "metadata": {
        "id": "lGBrR2nW-L_8"
      }
    },
    {
      "cell_type": "code",
      "source": [
        "import re\n",
        "\n",
        "def r_parenth(list):\n",
        "    pattern = re.compile(r'\\([^)]*\\)')\n",
        "    result = []\n",
        "    for string in list:\n",
        "      c = pattern.sub('',string)\n",
        "      result.append(c)\n",
        "    return result\n",
        "\n",
        "Sample_Text = [\"example (.com)\", \"hr@fliprobo (.com)\", \"github (.com)\", \"Hello (Data Science World)\", \"Data (Scientist)\"]\n",
        "\n",
        "text = r_parenth(Sample_Text)\n",
        "for string in text:\n",
        "    print(string)\n"
      ],
      "metadata": {
        "colab": {
          "base_uri": "https://localhost:8080/"
        },
        "id": "y8dqtFZ3-OXF",
        "outputId": "2c8008e3-8273-4df2-defc-8968dffc9b37"
      },
      "execution_count": 40,
      "outputs": [
        {
          "output_type": "stream",
          "name": "stdout",
          "text": [
            "example \n",
            "hr@fliprobo \n",
            "github \n",
            "Hello \n",
            "Data \n"
          ]
        }
      ]
    },
    {
      "cell_type": "markdown",
      "source": [
        "# Q6."
      ],
      "metadata": {
        "id": "-MFmMVpUADa_"
      }
    },
    {
      "cell_type": "code",
      "source": [
        "import re\n",
        "\n",
        "def remove_parentheses_from_file(input_filename, output_filename):\n",
        "    with open(input_filename, 'r') as file:\n",
        "        text = file.read()\n",
        "\n",
        "    pattern = re.compile(r'\\([^)]*\\)')\n",
        "    cleaned_text = pattern.sub('', text)\n",
        "\n",
        "    with open(output_filename, 'w') as file:\n",
        "        file.write(cleaned_text)\n",
        "\n",
        "input_filename = \"input.txt\"  #input.txt is name of the text file, given as input\n",
        "output_filename = \"output.txt\"\n",
        "\n",
        "remove_parentheses_from_file(input_filename, output_filename)\n"
      ],
      "metadata": {
        "id": "J6DkmMAtAF0e"
      },
      "execution_count": 23,
      "outputs": []
    },
    {
      "cell_type": "markdown",
      "source": [
        "# Q7."
      ],
      "metadata": {
        "id": "6sQLzjDgK6CM"
      }
    },
    {
      "cell_type": "code",
      "source": [
        "import re\n",
        "\n",
        "def Case_spaces(t):\n",
        "  return re.findall('[A-Z][^A-Z]*', t)\n",
        "\n",
        "text =\"ImportanceOfRegularExpressionsInPython\"\n",
        "print(text)\n",
        "print(Case_spaces(text))"
      ],
      "metadata": {
        "colab": {
          "base_uri": "https://localhost:8080/"
        },
        "id": "R2oDXy4lK-Hw",
        "outputId": "4844a92d-bf7f-4d0b-97da-0f0f103fb450"
      },
      "execution_count": 82,
      "outputs": [
        {
          "output_type": "stream",
          "name": "stdout",
          "text": [
            "ImportanceOfRegularExpressionsInPython\n",
            "['Importance', 'Of', 'Regular', 'Expressions', 'In', 'Python']\n"
          ]
        }
      ]
    },
    {
      "cell_type": "markdown",
      "source": [
        "# Q8."
      ],
      "metadata": {
        "id": "sGkyIcd9K-87"
      }
    },
    {
      "cell_type": "code",
      "source": [
        "import re\n",
        "\n",
        "def num_spaces(t):\n",
        "    new_text = re.sub(r'(\\D)(\\d)', r'\\1 \\2', t)\n",
        "    return new_text\n",
        "\n",
        "input_text = sample_text= \"RegularExpression1IsAn2ImportantTopic3InPython\"\n",
        "new_text = num_spaces(input_text)\n",
        "print(new_text)"
      ],
      "metadata": {
        "colab": {
          "base_uri": "https://localhost:8080/"
        },
        "id": "j3AJd1Z0LCEN",
        "outputId": "240ba046-e8bf-4f17-ae6e-db81bbf5d80e"
      },
      "execution_count": 81,
      "outputs": [
        {
          "output_type": "stream",
          "name": "stdout",
          "text": [
            "RegularExpression 1IsAn 2ImportantTopic 3InPython\n"
          ]
        }
      ]
    },
    {
      "cell_type": "markdown",
      "source": [
        "# Q9."
      ],
      "metadata": {
        "id": "ZyCmO-PALECs"
      }
    },
    {
      "cell_type": "code",
      "source": [
        "import re\n",
        "\n",
        "def num_spaces(t):\n",
        "    new_text = re.sub(r'([A-Z][^A-Z]*|\\D)(\\d)', r'\\1 \\2', t)\n",
        "    return new_text\n",
        "\n",
        "sample_text= \"RegularExpression1IsAn2ImportantTopic3InPython\"\n",
        "new_text = num_spaces(sample_text)\n",
        "print(new_text)\n"
      ],
      "metadata": {
        "id": "UhOSI9iPLGze"
      },
      "execution_count": null,
      "outputs": []
    },
    {
      "cell_type": "markdown",
      "source": [
        "# Q10."
      ],
      "metadata": {
        "id": "Jghmb9scLHcv"
      }
    },
    {
      "cell_type": "code",
      "source": [
        "import re\n",
        "\n",
        "def extract_emails_from_text(text):\n",
        "    pattern = re.compile(r'\\b[A-Za-z0-9._%+-]+@[A-Za-z0-9.-]+\\.[A-Z|a-z]{2,7}\\b')\n",
        "    result = pattern.findall(text)\n",
        "    return result\n",
        "\n",
        "with open(\"sample_text.txt\", 'r') as file:\n",
        "    text = file.read()\n",
        "\n",
        "email_addresses = extract_emails_from_text(text)\n",
        "for email in email_addresses:\n",
        "    print(email)\n"
      ],
      "metadata": {
        "colab": {
          "base_uri": "https://localhost:8080/"
        },
        "id": "LEJrTNc6LKVm",
        "outputId": "77475269-1a3e-403a-ba2b-fd2d7f2790e7"
      },
      "execution_count": 21,
      "outputs": [
        {
          "output_type": "stream",
          "name": "stdout",
          "text": [
            "xyz@domain.com\n",
            "xyz.abc@sdomain.domain.com\n",
            "hr@fliprobo.com\n"
          ]
        }
      ]
    },
    {
      "cell_type": "markdown",
      "source": [
        "# Q11."
      ],
      "metadata": {
        "id": "m0TMomq_LLUS"
      }
    },
    {
      "cell_type": "code",
      "source": [
        "import re\n",
        "def is_alphanum(text):\n",
        "        patterns = '^[a-zA-Z0-9_]*$'\n",
        "        if re.search(patterns,  text):\n",
        "                return 'Matched!'\n",
        "        else:\n",
        "                return('Not matched!')\n",
        "\n",
        "print(is_alphanum(input()))"
      ],
      "metadata": {
        "colab": {
          "base_uri": "https://localhost:8080/"
        },
        "id": "5_v1N__-LN32",
        "outputId": "56466d7a-8e2e-4a69-adc6-da1ebbfbae7c"
      },
      "execution_count": 29,
      "outputs": [
        {
          "output_type": "stream",
          "name": "stdout",
          "text": [
            "Python_Regex_5\n",
            "Matched!\n"
          ]
        }
      ]
    },
    {
      "cell_type": "markdown",
      "source": [
        "# Q12."
      ],
      "metadata": {
        "id": "zpIw4qd-LOmj"
      }
    },
    {
      "cell_type": "code",
      "source": [
        "import re\n",
        "\n",
        "def spec_num(string, number):\n",
        "    pattern = re.compile(r'^' + re.escape(number))\n",
        "    if pattern.match(string):\n",
        "        return True\n",
        "    return False\n",
        "\n",
        "input_string = input(\"Enter a string: \")\n",
        "specific_number = input(\"Enter a specific number: \")\n",
        "\n",
        "if spec_num(input_string, specific_number):\n",
        "    print(\"String starts with the given specific number.\")\n",
        "else:\n",
        "    print(\"String does not start with the specific number.\")\n"
      ],
      "metadata": {
        "colab": {
          "base_uri": "https://localhost:8080/"
        },
        "id": "0ojQNp2FLRKW",
        "outputId": "440f5323-c9bb-49e8-b75f-ea6ff71201a9"
      },
      "execution_count": 31,
      "outputs": [
        {
          "output_type": "stream",
          "name": "stdout",
          "text": [
            "Enter a string: 5somu working on fliprobo work\n",
            "Enter a specific number: 5\n",
            "String starts with the given specific number.\n"
          ]
        }
      ]
    },
    {
      "cell_type": "markdown",
      "source": [
        "# Q13."
      ],
      "metadata": {
        "id": "9cSJsnLBLScE"
      }
    },
    {
      "cell_type": "code",
      "source": [
        "def remove_leading_zeros(ip_address):\n",
        "    # Split the IP address into its components\n",
        "    components = ip_address.split('.')\n",
        "\n",
        "    # Remove leading zeros from each component\n",
        "    cleaned_components = [str(int(component)) for component in components]\n",
        "\n",
        "    # Join the cleaned components back into an IP address\n",
        "    cleaned_ip = '.'.join(cleaned_components)\n",
        "\n",
        "    return cleaned_ip\n",
        "\n",
        "ip_address = \"192.168.001.010\"\n",
        "cleaned_ip_address = remove_leading_zeros(ip_address)\n",
        "print(\"Original IP address:\", ip_address)\n",
        "print(\"Cleaned IP address:\", cleaned_ip_address)\n"
      ],
      "metadata": {
        "colab": {
          "base_uri": "https://localhost:8080/"
        },
        "id": "G54RD9_NLVPZ",
        "outputId": "71600cb8-f409-4871-9261-b9c72bb847a3"
      },
      "execution_count": 76,
      "outputs": [
        {
          "output_type": "stream",
          "name": "stdout",
          "text": [
            "Original IP address: 192.168.001.010\n",
            "Cleaned IP address: 192.168.1.10\n"
          ]
        }
      ]
    },
    {
      "cell_type": "markdown",
      "source": [
        "# Q14."
      ],
      "metadata": {
        "id": "8m3turUYLWJK"
      }
    },
    {
      "cell_type": "code",
      "source": [
        "import re\n",
        "\n",
        "# Read the sample text from the text file\n",
        "with open('sample_text14.txt', 'r') as file:\n",
        "    sample_text = file.read()\n",
        "\n",
        "# Regular expression pattern to match the date format\n",
        "pattern = r'\\b(?:January|February|March|April|May|June|July|August|September|October|November|December)\\s+\\d{1,2}(?:st|nd|rd|th)?\\s+\\d{4}\\b'\n",
        "\n",
        "# Find the matched date using the regular expression\n",
        "matched_date = re.search(pattern, sample_text)\n",
        "\n",
        "if matched_date:\n",
        "    extracted_date = matched_date.group()\n",
        "    print(\"Extracted Date:\", extracted_date)\n",
        "else:\n",
        "    print(\"No date matching the specified format found.\")\n"
      ],
      "metadata": {
        "colab": {
          "base_uri": "https://localhost:8080/"
        },
        "id": "Pmhf4UWPLZBI",
        "outputId": "9acbd97d-d7ec-4c53-d581-6b80f185c768"
      },
      "execution_count": 78,
      "outputs": [
        {
          "output_type": "stream",
          "name": "stdout",
          "text": [
            "Extracted Date: August 15th 1947\n"
          ]
        }
      ]
    },
    {
      "cell_type": "markdown",
      "source": [
        "# Q15."
      ],
      "metadata": {
        "id": "l2ntZbatLcNE"
      }
    },
    {
      "cell_type": "code",
      "source": [
        "def search_literals_strings(text, searched_words):\n",
        "    found_words = []\n",
        "\n",
        "    for word in searched_words:\n",
        "        if word in text:\n",
        "            found_words.append(word)\n",
        "\n",
        "    return found_words\n",
        "\n",
        "sample_text = 'The quick brown fox jumps over the lazy dog.'\n",
        "searched_words = ['fox', 'dog', 'horse']\n",
        "found_words = search_literals_strings(sample_text, searched_words)\n",
        "\n",
        "print(\"Found words:\")\n",
        "for word in found_words:\n",
        "    print(word)\n"
      ],
      "metadata": {
        "colab": {
          "base_uri": "https://localhost:8080/"
        },
        "id": "KwKdAAr1Lf2F",
        "outputId": "9cf78bac-a015-400b-fe8e-cf37f52ccd01"
      },
      "execution_count": 75,
      "outputs": [
        {
          "output_type": "stream",
          "name": "stdout",
          "text": [
            "Found words:\n",
            "fox\n",
            "dog\n"
          ]
        }
      ]
    },
    {
      "cell_type": "markdown",
      "source": [
        "# Q16."
      ],
      "metadata": {
        "id": "JVlyYKxMLgz7"
      }
    },
    {
      "cell_type": "code",
      "source": [
        "def search_literal_string(text, pattern):\n",
        "    locations = []\n",
        "    start = 0\n",
        "\n",
        "    while start < len(text):\n",
        "        position = text.find(pattern, start)\n",
        "        if position == -1:\n",
        "            break\n",
        "        locations.append(position)\n",
        "        start = position + 1\n",
        "\n",
        "    return locations\n",
        "\n",
        "sample_text = 'The quick brown fox jumps over the lazy dog.'\n",
        "search_word = 'fox'\n",
        "pattern_locations = search_literal_string(sample_text, search_word)\n",
        "\n",
        "print(f\"Pattern '{search_word}' found at positions:\")\n",
        "for position in pattern_locations:\n",
        "    print(position)\n"
      ],
      "metadata": {
        "colab": {
          "base_uri": "https://localhost:8080/"
        },
        "id": "tqGEyV_XLks7",
        "outputId": "53508d2f-dd5e-46d7-f881-91d1058310ad"
      },
      "execution_count": 74,
      "outputs": [
        {
          "output_type": "stream",
          "name": "stdout",
          "text": [
            "Pattern 'fox' found at positions:\n",
            "16\n"
          ]
        }
      ]
    },
    {
      "cell_type": "markdown",
      "source": [
        "# Q17."
      ],
      "metadata": {
        "id": "pr62Rt9RLl-2"
      }
    },
    {
      "cell_type": "code",
      "source": [
        "import re\n",
        "\n",
        "def find_matching_substrings(text, pattern):\n",
        "    matching_substrings = re.findall(pattern, text)\n",
        "    return matching_substrings\n",
        "\n",
        "sample_text = 'Python exercises, PHP exercises, C# exercises'\n",
        "pattern = 'exercises'\n",
        "matching_substrings = find_matching_substrings(sample_text, pattern)\n",
        "\n",
        "print( substring)\n"
      ],
      "metadata": {
        "colab": {
          "base_uri": "https://localhost:8080/"
        },
        "id": "VYKiiKXuLqK6",
        "outputId": "7e950393-258a-488f-cf23-3c54995375f6"
      },
      "execution_count": 72,
      "outputs": [
        {
          "output_type": "stream",
          "name": "stdout",
          "text": [
            "exercises\n"
          ]
        }
      ]
    },
    {
      "cell_type": "markdown",
      "source": [
        "# Q18."
      ],
      "metadata": {
        "id": "IZRSZI_mLri9"
      }
    },
    {
      "cell_type": "code",
      "source": [
        "def substring_occurrences(text, substring):\n",
        "    occurrences = []\n",
        "    start = 0\n",
        "\n",
        "    while start < len(text):\n",
        "        position = text.find(substring, start)\n",
        "        if position == -1:\n",
        "            break\n",
        "        occurrences.append((position, substring))\n",
        "        start = position + 1\n",
        "\n",
        "    return occurrences\n",
        "\n",
        "sample_text = \"The quick brown fox jumps over the lazy dog. The brown dog is friendly.\"\n",
        "search_substring = \"brown\"\n",
        "substring_occurrences = substring_occurrences(sample_text, search_substring)\n",
        "\n",
        "print(f\"Occurrences of '{search_substring}':\")\n",
        "for position, substring in substring_occurrences:\n",
        "    print(f\"Position: {position}, Substring: '{substring}'\")\n"
      ],
      "metadata": {
        "colab": {
          "base_uri": "https://localhost:8080/"
        },
        "id": "-u55PpLSLuUh",
        "outputId": "9f716ba0-fbf5-4c5e-94b6-f0850fdb77b0"
      },
      "execution_count": 68,
      "outputs": [
        {
          "output_type": "stream",
          "name": "stdout",
          "text": [
            "Occurrences of 'brown':\n",
            "Position: 10, Substring: 'brown'\n",
            "Position: 49, Substring: 'brown'\n"
          ]
        }
      ]
    },
    {
      "cell_type": "markdown",
      "source": [
        "# Q19."
      ],
      "metadata": {
        "id": "HjmR9ookLu6d"
      }
    },
    {
      "cell_type": "code",
      "source": [
        "def convert_date_format(date):\n",
        "    parts = date.split('-')\n",
        "    if len(parts) == 3:\n",
        "        year, month, day = parts\n",
        "        converted_date = f\"{day}-{month}-{year}\"\n",
        "        return converted_date\n",
        "    else:\n",
        "        return \"Invalid date format\"\n",
        "\n",
        "input_date = input(\"Enter a date in yyyy-mm-dd format: \")\n",
        "converted_date = convert_date_format(input_date)\n",
        "print(\"Converted date:\", converted_date)\n"
      ],
      "metadata": {
        "colab": {
          "base_uri": "https://localhost:8080/"
        },
        "id": "WY_3axg5LxLG",
        "outputId": "2acea86c-6e2e-4ea7-e6a3-1a5f3e7477a4"
      },
      "execution_count": 66,
      "outputs": [
        {
          "output_type": "stream",
          "name": "stdout",
          "text": [
            "Enter a date in yyyy-mm-dd format: 2000-04-30\n",
            "Converted date: 30-04-2000\n"
          ]
        }
      ]
    },
    {
      "cell_type": "markdown",
      "source": [
        "# Q20."
      ],
      "metadata": {
        "id": "wAmSBSZ9LyA0"
      }
    },
    {
      "cell_type": "code",
      "source": [
        "import re\n",
        "\n",
        "def deci_precision(text):\n",
        "    pattern = re.compile(r'\\b\\d+\\.\\d{1,2}\\b')\n",
        "    decimal_numbers = pattern.findall(text)\n",
        "    return decimal_numbers\n",
        "\n",
        "sample_text = \"The tomato prices in a year 20.50, 30, 100.00, and 150.35 .\"\n",
        "decimal_numbers = deci_precision(sample_text)\n",
        "print(decimal_numbers)\n"
      ],
      "metadata": {
        "colab": {
          "base_uri": "https://localhost:8080/"
        },
        "id": "wTPvUmJ_Lz8S",
        "outputId": "70455e4b-0551-40fa-f2e7-3f971e83bd5c"
      },
      "execution_count": 65,
      "outputs": [
        {
          "output_type": "stream",
          "name": "stdout",
          "text": [
            "['20.50', '100.00', '150.35']\n"
          ]
        }
      ]
    },
    {
      "cell_type": "markdown",
      "source": [
        "# Q21."
      ],
      "metadata": {
        "id": "r5YAYb0RL0ex"
      }
    },
    {
      "cell_type": "code",
      "source": [
        "import re\n",
        "\n",
        "def num_positions(text):\n",
        "    numbers = re.findall(r'\\d+', text)\n",
        "    positions = []\n",
        "\n",
        "    for match in re.finditer(r'\\d+', text):\n",
        "        positions.append(match.start())\n",
        "\n",
        "    for number, position in zip(numbers, positions):\n",
        "        print(f\"Number: {number}, Position: {position}\")\n",
        "\n",
        "sample_text = 'The price of tomato is @150 and the quantity is 1kg.'\n",
        "num_positions(sample_text)\n"
      ],
      "metadata": {
        "colab": {
          "base_uri": "https://localhost:8080/"
        },
        "id": "TeGBdPeML2w2",
        "outputId": "e84d3933-f99e-416b-b4a5-8a4789aaba17"
      },
      "execution_count": 63,
      "outputs": [
        {
          "output_type": "stream",
          "name": "stdout",
          "text": [
            "Number: 150, Position: 24\n",
            "Number: 1, Position: 48\n"
          ]
        }
      ]
    },
    {
      "cell_type": "markdown",
      "source": [
        "# Q22."
      ],
      "metadata": {
        "id": "8pnjkrInL3c-"
      }
    },
    {
      "cell_type": "code",
      "source": [
        "import re\n",
        "\n",
        "def max_num(text):\n",
        "    numbers = re.findall(r'\\b\\d+\\b', text)\n",
        "    max_value = max(map(int, numbers))\n",
        "    return max_value\n",
        "\n",
        "sample_text = 'My marks in each semester are: 947, 896, 926, 524, 734, 950, 642'\n",
        "max_numeric_value = max_num(sample_text)\n",
        "print(max_numeric_value)\n"
      ],
      "metadata": {
        "colab": {
          "base_uri": "https://localhost:8080/"
        },
        "id": "mgyLVX-YL5Ip",
        "outputId": "f1d52978-a329-4114-d957-a792377e4592"
      },
      "execution_count": 59,
      "outputs": [
        {
          "output_type": "stream",
          "name": "stdout",
          "text": [
            "950\n"
          ]
        }
      ]
    },
    {
      "cell_type": "markdown",
      "source": [
        "# Q23."
      ],
      "metadata": {
        "id": "3JeOSjMlL5lf"
      }
    },
    {
      "cell_type": "code",
      "source": [
        "import re\n",
        "\n",
        "def spaces_caps(text):\n",
        "    modified_text = re.sub(r'([a-z])([A-Z])', r'\\1 \\2', text)\n",
        "    return modified_text\n",
        "\n",
        "sample_text = \"RegularExpressionIsAnImportantTopicInPython\"\n",
        "modified_text = spaces_caps(sample_text)\n",
        "print(modified_text)\n"
      ],
      "metadata": {
        "colab": {
          "base_uri": "https://localhost:8080/"
        },
        "id": "llwMhjulL7Pd",
        "outputId": "8453953e-821f-4727-ccd0-566a7fc503d8"
      },
      "execution_count": 57,
      "outputs": [
        {
          "output_type": "stream",
          "name": "stdout",
          "text": [
            "Regular Expression Is An Important Topic In Python\n"
          ]
        }
      ]
    },
    {
      "cell_type": "markdown",
      "source": [
        "# Q24."
      ],
      "metadata": {
        "id": "g2m6bIlhL7wh"
      }
    },
    {
      "cell_type": "code",
      "source": [
        "import re\n",
        "def text_match(text):\n",
        "        patterns = '[A-Z]+[a-z]+$'\n",
        "        if re.search(patterns, text):\n",
        "                return 'Sequence matched!'\n",
        "        else:\n",
        "                return('Sequence Not matched!')\n",
        "n = input(\"Enter the seq. : \")\n",
        "print(text_match(n))"
      ],
      "metadata": {
        "colab": {
          "base_uri": "https://localhost:8080/"
        },
        "id": "f7y-c4qxL9dB",
        "outputId": "4b9194cd-bd8b-44dc-84b7-0cf0c8d5de68"
      },
      "execution_count": 55,
      "outputs": [
        {
          "output_type": "stream",
          "name": "stdout",
          "text": [
            "Enter the seq. : Aasom\n",
            "Sequence matched!\n"
          ]
        }
      ]
    },
    {
      "cell_type": "markdown",
      "source": [
        "# Q25."
      ],
      "metadata": {
        "id": "JHvFdtZaL-Ha"
      }
    },
    {
      "cell_type": "code",
      "source": [
        "import re\n",
        "\n",
        "def remove_Duplicate(input):\n",
        "    # Regular expression to match repeated words\n",
        "    regex = r'\\b(\\w+)(?:\\W+\\1\\b)+'\n",
        "\n",
        "    # Replace repeated words with a single occurrence of the word\n",
        "    # Case sensitive is considered\n",
        "    return re.sub(regex, r'\\1', input)\n",
        "\n",
        "# Test strings\n",
        "input_string = \"Hello hello world world\"\n",
        "print(remove_Duplicate(input_string))\n"
      ],
      "metadata": {
        "colab": {
          "base_uri": "https://localhost:8080/"
        },
        "id": "KQhHPXMe4QWs",
        "outputId": "c543f25f-ef47-40a6-a03b-ac071c20a249"
      },
      "execution_count": 53,
      "outputs": [
        {
          "output_type": "stream",
          "name": "stdout",
          "text": [
            "Hello hello world\n"
          ]
        }
      ]
    },
    {
      "cell_type": "markdown",
      "source": [
        "## Q26."
      ],
      "metadata": {
        "id": "c4MBwsLTMCja"
      }
    },
    {
      "cell_type": "code",
      "source": [
        "import re\n",
        "\n",
        "regex_expression = '[a-zA-z0-9]$'\n",
        "\n",
        "def check_string(string):\n",
        "\n",
        "   if(re.search(regex_expression, string)):\n",
        "      print(\"String ends with alphanumeric character\")\n",
        "\n",
        "   else:\n",
        "      print(\"String doesnot end with alphanumeric character\")\n",
        "\n",
        "\n",
        "string_1 = \"fliprobo@\"\n",
        "print(\"The string is :\",my_string_1)\n",
        "check_string(string_1)\n",
        "\n",
        "string_2 = \"Regex2023\"\n",
        "print(\"\\nThe string is :\",string_2)\n",
        "check_string(string_2)"
      ],
      "metadata": {
        "colab": {
          "base_uri": "https://localhost:8080/"
        },
        "id": "5VTgBFgF2Ju6",
        "outputId": "669f306c-85ec-46e0-bf3e-26f0a7e4a00b"
      },
      "execution_count": 49,
      "outputs": [
        {
          "output_type": "stream",
          "name": "stdout",
          "text": [
            "The string is : Python@\n",
            "String doesnot end with alphanumeric character\n",
            "\n",
            "The string is : Regex2023\n",
            "String ends with alphanumeric character\n"
          ]
        }
      ]
    },
    {
      "cell_type": "markdown",
      "source": [
        "## Q27."
      ],
      "metadata": {
        "id": "SZwYkOxvMGmV"
      }
    },
    {
      "cell_type": "code",
      "source": [
        "import re\n",
        "\n",
        "def extract_hashtags(text):\n",
        "    pattern = re.compile(r'#\\w+')\n",
        "    hashtags = pattern.findall(text)\n",
        "    return hashtags\n",
        "\n",
        "sample_text = \"\"\"RT @kapil_kausik: #Doltiwal I mean #xyzabc is \"hurt\" by #Demonetization as the same has rendered USELESS <ed><U+00A0><U+00BD><ed><U+00B1><U+0089> \"acquired funds\" No wo\"\"\"\n",
        "hashtags_list = extract_hashtags(sample_text)\n",
        "print(hashtags_list)\n"
      ],
      "metadata": {
        "colab": {
          "base_uri": "https://localhost:8080/"
        },
        "id": "A_qtzBeIMIlr",
        "outputId": "d7b0c333-370f-413f-8a4d-aa16261d14f2"
      },
      "execution_count": 42,
      "outputs": [
        {
          "output_type": "stream",
          "name": "stdout",
          "text": [
            "['#Doltiwal', '#xyzabc', '#Demonetization']\n"
          ]
        }
      ]
    },
    {
      "cell_type": "markdown",
      "source": [
        "## Q28."
      ],
      "metadata": {
        "id": "AQ642gNiMJb5"
      }
    },
    {
      "cell_type": "code",
      "source": [
        "import re\n",
        "\n",
        "def remove_U_symbols(text):\n",
        "    pattern = re.compile(r'<U\\+\\w{4}>')\n",
        "    cleaned_text = pattern.sub('', text)\n",
        "    return cleaned_text\n",
        "\n",
        "sample_text = \"@Jags123456 Bharat band on 28??<ed><U+00A0><U+00BD><ed><U+00B8><U+0082>Those who  are protesting #demonetization  are all different party leaders\"\n",
        "cleaned_text = remove_U_symbols(sample_text)\n",
        "print(cleaned_text)"
      ],
      "metadata": {
        "id": "A4R94YyNMLdq"
      },
      "execution_count": null,
      "outputs": []
    },
    {
      "cell_type": "markdown",
      "source": [
        "## Q29."
      ],
      "metadata": {
        "id": "nXZHuGNlMN4a"
      }
    },
    {
      "cell_type": "code",
      "source": [
        "import re\n",
        "\n",
        "def extract_dates(text):\n",
        "    pattern = re.compile(r'\\d{2}-\\d{2}-\\d{4}') #compiles a regular expression pattern that matches dates in the format dd-mm-yyyy.\n",
        "    result = pattern.findall(text)\n",
        "    return result\n",
        "\n",
        "with open(\"sample_dates.txt\", 'r') as file:  #sample_dates is name of the text file, given as input\n",
        "    text = file.read()\n",
        "\n",
        "date_list = extract_dates(text)\n",
        "for date in date_list:\n",
        "    print(date)\n"
      ],
      "metadata": {
        "colab": {
          "base_uri": "https://localhost:8080/"
        },
        "id": "mHicUy2iMPwk",
        "outputId": "770d30a5-7317-4fc0-ca8b-d9376429d2ed"
      },
      "execution_count": 41,
      "outputs": [
        {
          "output_type": "stream",
          "name": "stdout",
          "text": [
            "12-09-1992\n",
            "15-12-1999\n"
          ]
        }
      ]
    },
    {
      "cell_type": "markdown",
      "source": [
        "## Q30."
      ],
      "metadata": {
        "id": "f3L1uwffMRcc"
      }
    },
    {
      "cell_type": "code",
      "source": [
        "import re\n",
        "\n",
        "def cleaned_chars(text):\n",
        "    pattern = re.compile(r'\\b\\w{2,4}\\b')\n",
        "    result = pattern.sub('', text)\n",
        "    return result\n",
        "\n",
        "sample_text = \"The following example creates an ArrayList with a capacity of 50 elements. 4 elements are then added to the ArrayList and the ArrayList is trimmed accordingly.\"\n",
        "modified_text = cleaned_chars(input_text)\n",
        "print(modified_text)\n"
      ],
      "metadata": {
        "colab": {
          "base_uri": "https://localhost:8080/"
        },
        "id": "dFnscX6jMTPn",
        "outputId": "89412447-b1cb-4684-801c-1634450039c2"
      },
      "execution_count": 39,
      "outputs": [
        {
          "output_type": "stream",
          "name": "stdout",
          "text": [
            " following example creates  ArrayList  a capacity   elements. 4 elements   added   ArrayList   ArrayList  trimmed accordingly.\n"
          ]
        }
      ]
    },
    {
      "cell_type": "code",
      "source": [],
      "metadata": {
        "id": "aPCty5feiZiF"
      },
      "execution_count": null,
      "outputs": []
    }
  ]
}