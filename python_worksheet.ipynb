{
  "nbformat": 4,
  "nbformat_minor": 0,
  "metadata": {
    "colab": {
      "provenance": []
    },
    "kernelspec": {
      "name": "python3",
      "display_name": "Python 3"
    },
    "language_info": {
      "name": "python"
    }
  },
  "cells": [
    {
      "cell_type": "markdown",
      "source": [
        "# 11. Write a python program to find the factorial of a number.\n"
      ],
      "metadata": {
        "id": "LpuSwCStnKNQ"
      }
    },
    {
      "cell_type": "code",
      "execution_count": 15,
      "metadata": {
        "colab": {
          "base_uri": "https://localhost:8080/"
        },
        "id": "WDNZPAIunEnI",
        "outputId": "b61eb0dd-5b82-4fd6-a753-da86772fba5e"
      },
      "outputs": [
        {
          "output_type": "stream",
          "name": "stdout",
          "text": [
            "Factorial of 7\n",
            "5040\n"
          ]
        }
      ],
      "source": [
        "n = int(input(\"Factorial of \"))\n",
        "def factorial(num):\n",
        "  f = 1\n",
        "  if num <0:\n",
        "    print(\"No Factorial exists\")\n",
        "  elif num == 0:\n",
        "    print(1)\n",
        "  else:\n",
        "    for i in range(1,num+1):\n",
        "      f = f*i\n",
        "    print(f)\n",
        "\n",
        "factorial(n)"
      ]
    },
    {
      "cell_type": "markdown",
      "source": [
        "#12. Write a python program to find whether a number is prime or composite.\n"
      ],
      "metadata": {
        "id": "rJa9inMBnRHb"
      }
    },
    {
      "cell_type": "code",
      "source": [
        "n = int(input(\"Enter the number: \"))\n",
        "is_prime = True\n",
        "\n",
        "if n <= 1:\n",
        "    is_prime = False\n",
        "else:\n",
        "    for i in range(2, n):\n",
        "        if n % i == 0:\n",
        "            is_prime = False\n",
        "            break\n",
        "\n",
        "if is_prime:\n",
        "    print(\"It's a prime number.\")\n",
        "else:\n",
        "    print(\"It's a composite number.\")\n"
      ],
      "metadata": {
        "colab": {
          "base_uri": "https://localhost:8080/"
        },
        "id": "kInT-mPMnhmr",
        "outputId": "2b7f59c3-9180-43a1-9e8f-11bcd4f649d3"
      },
      "execution_count": 8,
      "outputs": [
        {
          "output_type": "stream",
          "name": "stdout",
          "text": [
            "Enter the number: 6\n",
            "It's a composite number.\n"
          ]
        }
      ]
    },
    {
      "cell_type": "markdown",
      "source": [
        "#13. Write a python program to check whether a given string is palindrome or not.\n"
      ],
      "metadata": {
        "id": "UfK64cUMnUgV"
      }
    },
    {
      "cell_type": "code",
      "source": [
        "def palindrome_check(n):\n",
        "    s = n.lower()\n",
        "    if s == s[::-1]:\n",
        "        print(\"Yes, it's a palindrome.\")\n",
        "    else:\n",
        "        print(\"No, it's not a palindrome.\")\n",
        "\n",
        "palindrome_check(input(\"Enter a string: \"))"
      ],
      "metadata": {
        "id": "1wHpgAOYnX-0",
        "colab": {
          "base_uri": "https://localhost:8080/"
        },
        "outputId": "6ef1aad8-04ad-4ca0-ef25-9e5f435b7d4a"
      },
      "execution_count": 34,
      "outputs": [
        {
          "output_type": "stream",
          "name": "stdout",
          "text": [
            "Enter a string: Dad\n",
            "Yes, it's a palindrome.\n"
          ]
        }
      ]
    },
    {
      "cell_type": "markdown",
      "source": [
        "#14. Write a Python program to get the third side of right-angled triangle from two given sides.\n"
      ],
      "metadata": {
        "id": "LL-KMGl7nYSQ"
      }
    },
    {
      "cell_type": "code",
      "source": [
        "import math\n",
        "\n",
        "def hypothesis():\n",
        "\n",
        "  n = int(input(\" Enter the base of triangle \"))\n",
        "  m = int(input(\" Enter the height of triangle \"))\n",
        "  t = n**2 + m**2\n",
        "  print(\"The 3rd side of right-angled triangle is \",math.sqrt(t))\n",
        "\n",
        "hypothesis()"
      ],
      "metadata": {
        "id": "OM9sSepEnbMV",
        "colab": {
          "base_uri": "https://localhost:8080/"
        },
        "outputId": "85c581d4-7023-474f-f959-d8e8673ce656"
      },
      "execution_count": 40,
      "outputs": [
        {
          "output_type": "stream",
          "name": "stdout",
          "text": [
            " Enter the base of triangle 3\n",
            " Enter the height of triangle 4\n",
            "The 3rd side of right-angled triangle is  5.0\n"
          ]
        }
      ]
    },
    {
      "cell_type": "markdown",
      "source": [
        "#15. Write a python program to print the frequency of each of the characters present in a given string."
      ],
      "metadata": {
        "id": "DVCsThIQnbg3"
      }
    },
    {
      "cell_type": "code",
      "source": [
        "string = input(\"Enter a string: \")\n",
        "\n",
        "char_freq = {}\n",
        "for char in string:\n",
        "    if char in char_freq:\n",
        "        char_freq[char] += 1\n",
        "    else:\n",
        "        char_freq[char] = 1\n",
        "\n",
        "for char, freq in char_freq.items():\n",
        "    print(f\"{char}: {freq}\", end=\", \")\n"
      ],
      "metadata": {
        "colab": {
          "base_uri": "https://localhost:8080/"
        },
        "id": "wJHoOgRu8qgs",
        "outputId": "15a944c8-f571-4d0a-e3e9-f75e4a8849fe"
      },
      "execution_count": 42,
      "outputs": [
        {
          "output_type": "stream",
          "name": "stdout",
          "text": [
            "Enter a string: Somu is sekhar is \n",
            "S: 1, o: 1, m: 1, u: 1,  : 4, i: 2, s: 3, e: 1, k: 1, h: 1, a: 1, r: 1, "
          ]
        }
      ]
    }
  ]
}